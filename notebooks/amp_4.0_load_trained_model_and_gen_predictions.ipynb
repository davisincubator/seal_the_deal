{
 "cells": [
  {
   "cell_type": "code",
   "execution_count": 12,
   "metadata": {},
   "outputs": [],
   "source": [
    "import numpy as np\n",
    "import pandas as pd\n",
    "import os\n",
    "import cv2\n",
    "from PIL import Image\n",
    "from scipy.misc import imread\n",
    "import matplotlib.pyplot as plt\n",
    "import skimage.feature\n",
    "from sklearn.model_selection import train_test_split\n",
    "from sklearn.preprocessing import LabelBinarizer\n",
    "import keras\n",
    "from keras.models import Sequential, load_model\n",
    "from keras.layers import Dense, Dropout, Activation, Flatten, Conv2D, MaxPooling2D, Lambda, Cropping2D\n",
    "from keras.utils import np_utils\n",
    "\n",
    "from collections import Counter\n",
    "\n",
    "from keras.models import load_model\n",
    "\n",
    "import datetime\n",
    "\n",
    "%matplotlib inline"
   ]
  },
  {
   "cell_type": "code",
   "execution_count": 13,
   "metadata": {
    "collapsed": true
   },
   "outputs": [],
   "source": [
    "class_names = ['adult_females', 'adult_males', 'juveniles', 'pups', 'subadult_males']\n",
    "\n",
    "my_dir = \"/Volumes/dax/seals/Kaggle-NOAA-SeaLions/\""
   ]
  },
  {
   "cell_type": "code",
   "execution_count": 14,
   "metadata": {
    "collapsed": true
   },
   "outputs": [],
   "source": [
    "blacklist_fin = open(my_dir + 'MismatchedTrainImages.txt')\n",
    "\n",
    "blacklist_ws = blacklist_fin.readlines()\n",
    "blacklist = []\n",
    "for i in blacklist_ws:\n",
    "    blacklist.append(i.strip() + '.jpg')\n",
    "    \n",
    "blacklist.append('train.csv')\n",
    "\n",
    "#print(blacklist[:5])"
   ]
  },
  {
   "cell_type": "code",
   "execution_count": 15,
   "metadata": {
    "collapsed": true
   },
   "outputs": [],
   "source": [
    "file_names = os.listdir(my_dir + \"Train/\")\n",
    "file_names = sorted(file_names, key=lambda \n",
    "                    item: (int(item.partition('.')[0]) if item[0].isdigit() else float('inf'), item)) \n",
    "\n",
    "# select a subset of files to run on\n",
    "file_names = file_names[0:1]\n",
    "\n",
    "# dataframe to store results in\n",
    "coordinates_df = pd.DataFrame(index=file_names, columns=class_names)\n",
    "\n",
    "#print(file_names[:])"
   ]
  },
  {
   "cell_type": "code",
   "execution_count": 16,
   "metadata": {},
   "outputs": [
    {
     "name": "stdout",
     "output_type": "stream",
     "text": [
      "CPU times: user 3 µs, sys: 6 µs, total: 9 µs\n",
      "Wall time: 20 µs\n"
     ]
    }
   ],
   "source": [
    "for filename in file_names:\n",
    "    if filename in blacklist:\n",
    "        pass\n",
    "    else:\n",
    "        # read the Train and Train Dotted images\n",
    "        image_1 = cv2.imread(my_dir + \"/TrainDotted/\" + filename)\n",
    "        image_2 = cv2.imread(my_dir + \"/Train/\" + filename)\n",
    "\n",
    "        cut = np.copy(image_2)\n",
    "\n",
    "        # absolute difference between Train and Train Dotted\n",
    "        image_3 = cv2.absdiff(image_1,image_2)\n",
    "\n",
    "    # mask out blackened regions from Train Dotted\n",
    "        mask_1 = cv2.cvtColor(image_1, cv2.COLOR_BGR2GRAY)\n",
    "        mask_1[mask_1 < 20] = 0\n",
    "        mask_1[mask_1 > 0] = 255\n",
    "\n",
    "        mask_2 = cv2.cvtColor(image_2, cv2.COLOR_BGR2GRAY)\n",
    "        mask_2[mask_2 < 20] = 0\n",
    "        mask_2[mask_2 > 0] = 255\n",
    "\n",
    "        image_3 = cv2.bitwise_or(image_3, image_3, mask=mask_1)\n",
    "        image_3 = cv2.bitwise_or(image_3, image_3, mask=mask_2) \n",
    "\n",
    "        # convert to grayscale to be accepted by skimage.feature.blob_log\n",
    "        image_3 = cv2.cvtColor(image_3, cv2.COLOR_BGR2GRAY)\n",
    "\n",
    "        # detect blobs\n",
    "        blobs = skimage.feature.blob_log(image_3, min_sigma=3, max_sigma=4, num_sigma=1, threshold=0.02)\n",
    "\n",
    "        adult_males = []\n",
    "        subadult_males = []\n",
    "        pups = []\n",
    "        juveniles = []\n",
    "        adult_females = [] \n",
    "\n",
    "        image_circles = image_1\n",
    "\n",
    "        for blob in blobs:\n",
    "            # get the coordinates for each blob\n",
    "            y, x, s = blob\n",
    "            # get the color of the pixel from Train Dotted in the center of the blob\n",
    "            g,b,r = image_1[int(y)][int(x)][:]\n",
    "\n",
    "            # decision tree to pick the class of the blob by looking at the color in Train Dotted\n",
    "            if r > 200 and g < 50 and b < 50: # RED\n",
    "                adult_males.append((int(x),int(y)))\n",
    "                cv2.circle(image_circles, (int(x),int(y)), 20, (0,0,255), 10) \n",
    "            elif r > 200 and g > 200 and b < 50: # MAGENTA\n",
    "                subadult_males.append((int(x),int(y))) \n",
    "                cv2.circle(image_circles, (int(x),int(y)), 20, (250,10,250), 10)\n",
    "            elif r < 100 and g < 100 and 150 < b < 200: # GREEN\n",
    "                pups.append((int(x),int(y)))\n",
    "                cv2.circle(image_circles, (int(x),int(y)), 20, (20,180,35), 10)\n",
    "            elif r < 100 and  100 < g and b < 100: # BLUE\n",
    "                juveniles.append((int(x),int(y))) \n",
    "                cv2.circle(image_circles, (int(x),int(y)), 20, (180,60,30), 10)\n",
    "            elif r < 150 and g < 50 and b < 100:  # BROWN\n",
    "                adult_females.append((int(x),int(y)))\n",
    "                cv2.circle(image_circles, (int(x),int(y)), 20, (0,42,84), 10)  \n",
    "\n",
    "            cv2.rectangle(cut, (int(x)-112,int(y)-112),(int(x)+112,int(y)+112), 0,-1)\n",
    "\n",
    "        coordinates_df[\"adult_males\"][filename] = adult_males\n",
    "        coordinates_df[\"subadult_males\"][filename] = subadult_males\n",
    "        coordinates_df[\"adult_females\"][filename] = adult_females\n",
    "        coordinates_df[\"juveniles\"][filename] = juveniles\n",
    "        coordinates_df[\"pups\"][filename] = pups\n",
    "        \n",
    "%time"
   ]
  },
  {
   "cell_type": "code",
   "execution_count": 17,
   "metadata": {
    "collapsed": true
   },
   "outputs": [],
   "source": [
    "x = []\n",
    "y = []\n",
    "\n",
    "for filename in file_names:    \n",
    "    image = cv2.imread(my_dir + \"/Train/\" + filename)\n",
    "    for lion_class in class_names:\n",
    "        for coordinates in coordinates_df[lion_class][filename]:\n",
    "            thumb = image[coordinates[1]-32:coordinates[1]+32,coordinates[0]-32:coordinates[0]+32,:]\n",
    "            if np.shape(thumb) == (64, 64, 3):\n",
    "                x.append(thumb)\n",
    "                y.append(lion_class)"
   ]
  },
  {
   "cell_type": "code",
   "execution_count": 18,
   "metadata": {
    "collapsed": true
   },
   "outputs": [],
   "source": [
    "for i in range(0,np.shape(cut)[0],224):\n",
    "    for j in range(0,np.shape(cut)[1],224):                \n",
    "        thumb = cut[i:i+64,j:j+64,:]\n",
    "        if np.amin(cv2.cvtColor(thumb, cv2.COLOR_BGR2GRAY)) != 0:\n",
    "            if np.shape(thumb) == (64,64,3):\n",
    "                x.append(thumb)\n",
    "                y.append(\"negative\")  "
   ]
  },
  {
   "cell_type": "code",
   "execution_count": 19,
   "metadata": {
    "collapsed": true
   },
   "outputs": [],
   "source": [
    "class_names.append(\"negative\")"
   ]
  },
  {
   "cell_type": "code",
   "execution_count": 20,
   "metadata": {
    "collapsed": true
   },
   "outputs": [],
   "source": [
    "x = np.array(x)\n",
    "y = np.array(y)"
   ]
  },
  {
   "cell_type": "code",
   "execution_count": 21,
   "metadata": {
    "collapsed": true
   },
   "outputs": [],
   "source": [
    "encoder = LabelBinarizer()\n",
    "encoder.fit(y)\n",
    "y = encoder.transform(y).astype(float)"
   ]
  },
  {
   "cell_type": "code",
   "execution_count": 22,
   "metadata": {
    "collapsed": true
   },
   "outputs": [],
   "source": [
    "my_model = '2017-06-23_model.h5'#what is the model file named?\n",
    "\n",
    "model = load_model(my_dir + my_model)"
   ]
  },
  {
   "cell_type": "code",
   "execution_count": 29,
   "metadata": {},
   "outputs": [],
   "source": [
    "test_file_names = os.listdir(my_dir + \"Test/\")\n",
    "test_file_names = sorted(test_file_names, key=lambda \n",
    "                    item: (int(item.partition('.')[0]) if item[0].isdigit() else float('inf'), item)) \n",
    "\n",
    "# select a subset of files to run on\n",
    "test_file_names = test_file_names[0:1]\n",
    "\n",
    "# dataframe to store results in\n",
    "test_coordinates_df = pd.DataFrame(0,index=test_file_names, columns=class_names)\n",
    "\n",
    "#print(test_file_names[:5])\n",
    "#print(test_coordinates_df)\n"
   ]
  },
  {
   "cell_type": "code",
   "execution_count": 30,
   "metadata": {},
   "outputs": [
    {
     "name": "stdout",
     "output_type": "stream",
     "text": [
      "Counter({'negative': 5277, 'pups': 68, 'adult_females': 55})\n",
      "CPU times: user 4 µs, sys: 13 µs, total: 17 µs\n",
      "Wall time: 27.9 µs\n"
     ]
    }
   ],
   "source": [
    "for filename in test_file_names:\n",
    "    img = cv2.imread(my_dir + \"Test/\"  + filename)\n",
    "\n",
    "    x_test = []\n",
    "\n",
    "    for i in range(0,np.shape(img)[0],64):\n",
    "        for j in range(0,np.shape(img)[1],64):                \n",
    "            thumb = img[i:i+64,j:j+64,:]        \n",
    "            if np.shape(thumb) == (64,64,3):\n",
    "                x_test.append(thumb)\n",
    "\n",
    "    x_test = np.array(x_test)\n",
    "\n",
    "    y_predicted = model.predict(x_test, verbose=0)\n",
    "\n",
    "    y_predicted = encoder.inverse_transform(y_predicted)\n",
    "\n",
    "    the_counter = Counter(y_predicted)\n",
    "    \n",
    "    print(the_counter)\n",
    "    \n",
    "    for key in the_counter:\n",
    "        test_coordinates_df.set_value(index = filename, col = key, value = the_counter[key])\n",
    "        \n",
    "%time"
   ]
  },
  {
   "cell_type": "code",
   "execution_count": 31,
   "metadata": {},
   "outputs": [
    {
     "name": "stdout",
     "output_type": "stream",
     "text": [
      "       adult_males  subadult_males  adult_females  juveniles  pups\n",
      "0.jpg            0               0             55          0    68\n"
     ]
    }
   ],
   "source": [
    "protect_df = test_coordinates_df\n",
    "#print(test_coordinates_df)\n",
    "\n",
    "#del test_coordinates_df['negative']\n",
    "test_coordinates_df = test_coordinates_df[['adult_males', 'subadult_males', 'adult_females', 'juveniles', 'pups']]\n",
    "print(test_coordinates_df)"
   ]
  },
  {
   "cell_type": "code",
   "execution_count": 28,
   "metadata": {
    "collapsed": true
   },
   "outputs": [],
   "source": [
    "test_coordinates_df.to_csv(my_dir + datetime.date.today().isoformat() + '_submission.csv')"
   ]
  },
  {
   "cell_type": "code",
   "execution_count": null,
   "metadata": {
    "collapsed": true
   },
   "outputs": [],
   "source": []
  }
 ],
 "metadata": {
  "kernelspec": {
   "display_name": "Python 3",
   "language": "python",
   "name": "python3"
  },
  "language_info": {
   "codemirror_mode": {
    "name": "ipython",
    "version": 3
   },
   "file_extension": ".py",
   "mimetype": "text/x-python",
   "name": "python",
   "nbconvert_exporter": "python",
   "pygments_lexer": "ipython3",
   "version": "3.5.3"
  }
 },
 "nbformat": 4,
 "nbformat_minor": 2
}
