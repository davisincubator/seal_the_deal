{
 "cells": [
  {
   "cell_type": "code",
   "execution_count": 1,
   "metadata": {
    "collapsed": true
   },
   "outputs": [],
   "source": [
    "import pandas as pd\n",
    "import datetime"
   ]
  },
  {
   "cell_type": "code",
   "execution_count": 2,
   "metadata": {
    "collapsed": true
   },
   "outputs": [],
   "source": [
    "my_dir = \"/Volumes/dax/seals/Kaggle-NOAA-SeaLions/\"\n",
    "my_file = '2017-06-24_submission.csv'"
   ]
  },
  {
   "cell_type": "code",
   "execution_count": 3,
   "metadata": {},
   "outputs": [],
   "source": [
    "old_form_d = pd.read_csv(my_dir + my_file)\n",
    "\n",
    "new_index = []\n",
    "for i in old_form_d['Unnamed: 0']:\n",
    "    new_index.append(i[:-4])\n",
    "\n",
    "del old_form_d['Unnamed: 0']\n",
    "\n",
    "old_form_d['test_id'] = new_index\n",
    "\n",
    "new_form_d = old_form_d[['test_id', 'adult_males', 'subadult_males', 'adult_females', 'juveniles', 'pups']]\n",
    "\n",
    "new_form_d.to_csv(my_dir + datetime.date.today().isoformat() + '_submission_stripped.csv', index = False)\n",
    "\n"
   ]
  }
 ],
 "metadata": {
  "kernelspec": {
   "display_name": "Python 3",
   "language": "python",
   "name": "python3"
  },
  "language_info": {
   "codemirror_mode": {
    "name": "ipython",
    "version": 3
   },
   "file_extension": ".py",
   "mimetype": "text/x-python",
   "name": "python",
   "nbconvert_exporter": "python",
   "pygments_lexer": "ipython3",
   "version": "3.5.3"
  }
 },
 "nbformat": 4,
 "nbformat_minor": 2
}
