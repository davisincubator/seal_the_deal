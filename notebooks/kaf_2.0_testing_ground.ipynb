{
 "cells": [
  {
   "cell_type": "code",
   "execution_count": 24,
   "metadata": {
    "collapsed": true
   },
   "outputs": [],
   "source": [
    "from tqdm import tnrange, tqdm_notebook\n",
    "from time import sleep\n",
    "import os\n",
    "import pandas as pd\n",
    "import datetime"
   ]
  },
  {
   "cell_type": "code",
   "execution_count": 3,
   "metadata": {},
   "outputs": [
    {
     "data": {
      "application/vnd.jupyter.widget-view+json": {
       "model_id": "fc8dd7e99b634bc4ba10fec435f3a27a"
      }
     },
     "metadata": {},
     "output_type": "display_data"
    },
    {
     "data": {
      "application/vnd.jupyter.widget-view+json": {
       "model_id": "57532e9edab6470bb89a32a77845b14d"
      }
     },
     "metadata": {},
     "output_type": "display_data"
    },
    {
     "data": {
      "application/vnd.jupyter.widget-view+json": {
       "model_id": "7f61ae360349469ab7f1254c50b77719"
      }
     },
     "metadata": {},
     "output_type": "display_data"
    },
    {
     "data": {
      "application/vnd.jupyter.widget-view+json": {
       "model_id": "a19ef53976ec45129e49b24a1e6b419d"
      }
     },
     "metadata": {},
     "output_type": "display_data"
    },
    {
     "data": {
      "application/vnd.jupyter.widget-view+json": {
       "model_id": "a2972f4169ab4eb59cb4fdc8630f91de"
      }
     },
     "metadata": {},
     "output_type": "display_data"
    },
    {
     "name": "stdout",
     "output_type": "stream",
     "text": [
      "\n"
     ]
    }
   ],
   "source": [
    "for i in tnrange(4, desc='1st loop'):\n",
    "    for j in tnrange(100, desc='2nd loop'):\n",
    "        sleep(0.01)"
   ]
  },
  {
   "cell_type": "code",
   "execution_count": 9,
   "metadata": {},
   "outputs": [
    {
     "data": {
      "application/vnd.jupyter.widget-view+json": {
       "model_id": "4fb987eec0b84eb292380a74cc2e6496"
      }
     },
     "metadata": {},
     "output_type": "display_data"
    },
    {
     "name": "stdout",
     "output_type": "stream",
     "text": [
      "\n"
     ]
    }
   ],
   "source": [
    "text = \"\"\n",
    "for char in tqdm_notebook([\"a\", \"b\", \"c\", \"d\"]):\n",
    "    sleep(0.9)\n",
    "    text = text + char"
   ]
  },
  {
   "cell_type": "code",
   "execution_count": 16,
   "metadata": {
    "collapsed": true
   },
   "outputs": [],
   "source": [
    "my_dir = \"/seal_the_data/\"\n",
    "class_names = ['adult_females', 'adult_males', 'juveniles', 'pups', 'subadult_males']"
   ]
  },
  {
   "cell_type": "code",
   "execution_count": 19,
   "metadata": {},
   "outputs": [
    {
     "name": "stdout",
     "output_type": "stream",
     "text": [
      "18636\n"
     ]
    }
   ],
   "source": [
    "test_file_names = os.listdir(my_dir + \"Test/\")\n",
    "test_file_names = sorted(test_file_names, key=lambda \n",
    "                    item: (int(item.partition('.')[0]) if item[0].isdigit() else float('inf'), item))\n",
    "\n",
    "# dataframe to store results in\n",
    "test_coordinates_df = pd.DataFrame(0,index=test_file_names, columns=class_names)\n",
    "print(len(test_file_names)) # 18636 test images"
   ]
  },
  {
   "cell_type": "code",
   "execution_count": 27,
   "metadata": {},
   "outputs": [
    {
     "data": {
      "application/vnd.jupyter.widget-view+json": {
       "model_id": "fc51dae3011e492bac5e2eee3b2b0c79"
      }
     },
     "metadata": {},
     "output_type": "display_data"
    },
    {
     "name": "stdout",
     "output_type": "stream",
     "text": [
      "completed 0 images at 18:50\n",
      "completed 500 images at 18:50\n",
      "completed 1000 images at 18:50\n",
      "completed 1500 images at 18:50\n",
      "completed 2000 images at 18:50\n",
      "completed 2500 images at 18:50\n",
      "completed 3000 images at 18:50\n",
      "completed 3500 images at 18:50\n",
      "completed 4000 images at 18:50\n",
      "completed 4500 images at 18:50\n",
      "completed 5000 images at 18:50\n",
      "completed 5500 images at 18:50\n",
      "completed 6000 images at 18:50\n",
      "completed 6500 images at 18:50\n",
      "completed 7000 images at 18:50\n",
      "completed 7500 images at 18:50\n",
      "completed 8000 images at 18:50\n",
      "completed 8500 images at 18:50\n",
      "completed 9000 images at 18:50\n",
      "completed 9500 images at 18:50\n",
      "completed 10000 images at 18:50\n",
      "completed 10500 images at 18:50\n",
      "completed 11000 images at 18:50\n",
      "completed 11500 images at 18:50\n",
      "completed 12000 images at 18:50\n",
      "completed 12500 images at 18:50\n",
      "completed 13000 images at 18:50\n",
      "completed 13500 images at 18:50\n",
      "completed 14000 images at 18:50\n",
      "completed 14500 images at 18:50\n",
      "completed 15000 images at 18:50\n",
      "completed 15500 images at 18:50\n",
      "completed 16000 images at 18:50\n",
      "completed 16500 images at 18:50\n",
      "completed 17000 images at 18:50\n",
      "completed 17500 images at 18:50\n",
      "completed 18000 images at 18:51\n",
      "completed 18500 images at 18:51\n",
      "\n"
     ]
    }
   ],
   "source": [
    "for filename in tqdm_notebook(test_file_names):\n",
    "    file_int = int(filename[:-4])\n",
    "    current_time = datetime.datetime.now().time().isoformat()[:5]\n",
    "    if file_int%500 == 0:\n",
    "        print('completed %d images at %s' % (file_int, current_time))\n",
    "    sleep(0.001)"
   ]
  },
  {
   "cell_type": "code",
   "execution_count": null,
   "metadata": {
    "collapsed": true
   },
   "outputs": [],
   "source": []
  }
 ],
 "metadata": {
  "hide_input": false,
  "kernelspec": {
   "display_name": "Python 3",
   "language": "python",
   "name": "python3"
  }
 },
 "nbformat": 4,
 "nbformat_minor": 2
}
